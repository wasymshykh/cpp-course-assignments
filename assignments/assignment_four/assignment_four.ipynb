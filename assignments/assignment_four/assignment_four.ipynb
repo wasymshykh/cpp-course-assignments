{
 "cells": [
  {
   "cell_type": "markdown",
   "metadata": {},
   "source": [
    "**Question One** Use a dictionary to store information about a person you know. Store their first name, last name, age,\n",
    "and the city in which they live. You should have keys such as first_name, last_name, age, and city. Print\n",
    "each piece of information stored in your dictionary. Add a new key value pair about qualification then\n",
    "update the qualification value to high academic level then delete it."
   ]
  },
  {
   "cell_type": "code",
   "execution_count": 1,
   "metadata": {},
   "outputs": [
    {
     "name": "stdout",
     "output_type": "stream",
     "text": [
      "[first_name]: [Ali]\n",
      "[last_name]: [Ahmed]\n",
      "[age]: [23]\n",
      "[city]: [Karachi]\n"
     ]
    },
    {
     "data": {
      "text/plain": [
       "'BS SE'"
      ]
     },
     "execution_count": 1,
     "metadata": {},
     "output_type": "execute_result"
    }
   ],
   "source": [
    "dic = {\"first_name\": \"Ali\", \"last_name\": \"Ahmed\", \"age\": 23, \"city\": \"Karachi\"}\n",
    "\n",
    "for k in dic:\n",
    "    print(\"[%s]: [%s]\" %(k, dic[k]))\n",
    "    \n",
    "dic[\"qualification\"] = \"BS SE\"\n",
    "dic.pop(\"qualification\")\n"
   ]
  },
  {
   "cell_type": "markdown",
   "metadata": {},
   "source": [
    "**Question Two** Make a dictionary called cities. Use the names of three cities as keys in your dictionary. Create a\n",
    "dictionary of information about each city and include the country that the city is in, its approximate\n",
    "population, and one fact about that city. The keys for each city’s dictionary should be something like\n",
    "country, population, and fact. Print the name of each city and all of the information you have stored\n",
    "about it."
   ]
  },
  {
   "cell_type": "code",
   "execution_count": 2,
   "metadata": {},
   "outputs": [
    {
     "name": "stdout",
     "output_type": "stream",
     "text": [
      "About KARACHI:\n",
      "\tcountry - Pakistan\n",
      "\tpopulation - 180.5\n",
      "\tfact - City of lights\n",
      "------------------------------\n",
      "About LONDON:\n",
      "\tcountry - United Kindom\n",
      "\tpopulation - 120.1\n",
      "\tfact - Most expensive city\n",
      "------------------------------\n",
      "About SYDNEY:\n",
      "\tcountry - Australia\n",
      "\tpopulation - 88.4\n",
      "\tfact - Capital of sydney\n",
      "------------------------------\n"
     ]
    }
   ],
   "source": [
    "cities = {\"karachi\": {\"country\": \"Pakistan\", \"population\": 180.5, \"fact\": \"City of lights\"}, \n",
    "          \"london\": {\"country\": \"United Kindom\", \"population\": 120.1, \"fact\": \"Most expensive city\"},\n",
    "          \"sydney\": {\"country\": \"Australia\", \"population\": 88.4, \"fact\": \"Capital of sydney\"} }\n",
    "\n",
    "for city in cities:\n",
    "    print(\"About %s:\" %city.upper())\n",
    "    for detail in cities[city]:\n",
    "        print(\"\\t%s - %s\" %(detail, cities[city][detail]))\n",
    "    print(\"------------------------------\")"
   ]
  },
  {
   "cell_type": "markdown",
   "metadata": {},
   "source": [
    "**Question Three** A movie theater charges different ticket prices depending on a person’s age. If a person is under the age\n",
    "of 3, the ticket is free; if they are between 3 and 12, the ticket is \\\\$10; and if they are over age 12, the\n",
    "ticket is \\\\$15. Write a loop in which you ask users their age, and then tell them the cost of their movie\n",
    "ticket."
   ]
  },
  {
   "cell_type": "code",
   "execution_count": 3,
   "metadata": {},
   "outputs": [
    {
     "name": "stdout",
     "output_type": "stream",
     "text": [
      "Enter age: 5\n",
      "Price is $10\n",
      "\n",
      "What to enter again? [Y/N] Y\n",
      "Enter age: 13\n",
      "Price is $15\n",
      "\n",
      "What to enter again? [Y/N] Y\n",
      "Enter age: 2\n",
      "Free entry!\n",
      "\n",
      "What to enter again? [Y/N] N\n"
     ]
    }
   ],
   "source": [
    "stop = False\n",
    "while not(stop):\n",
    "    age = int(input(\"Enter age: \"))\n",
    "    \n",
    "    if age > 0 and age <= 3:\n",
    "        print(\"Free entry!\")\n",
    "    elif age >= 4 and age <= 12:\n",
    "        print(\"Price is $10\")\n",
    "    elif age > 12:\n",
    "        print(\"Price is $15\")\n",
    "    else:\n",
    "        print(\"Invalid age!\")\n",
    "        \n",
    "    op = input(\"\\nWhat to enter again? [Y/N] \")\n",
    "    if op.lower() == \"n\":\n",
    "        stop = True"
   ]
  },
  {
   "cell_type": "markdown",
   "metadata": {},
   "source": [
    "**Question Four** Write a function called favorite_book() that accepts one parameter, title. The function should print a\n",
    "message, such as One of my favorite books is Alice in Wonderland. Call the function, making sure to\n",
    "include a book title as an argument in the function call."
   ]
  },
  {
   "cell_type": "code",
   "execution_count": 4,
   "metadata": {},
   "outputs": [
    {
     "name": "stdout",
     "output_type": "stream",
     "text": [
      "Artifical intelligence a modern approach is my favourite book!\n"
     ]
    }
   ],
   "source": [
    "def favourite_book(title):\n",
    "    print(\"%s is my favourite book!\" %(title))\n",
    "    \n",
    "favourite_book(\"Artifical intelligence a modern approach\")"
   ]
  },
  {
   "cell_type": "markdown",
   "metadata": {},
   "source": [
    "**Question Five** Write a program which randomly generate a number between 1 to 30 and ask the user in input field to\n",
    "guess the correct number. Give three chances to user guess the number and also give hint to user if\n",
    "hidden number is greater or smaller than the number he given to input field."
   ]
  },
  {
   "cell_type": "code",
   "execution_count": 5,
   "metadata": {},
   "outputs": [
    {
     "name": "stdout",
     "output_type": "stream",
     "text": [
      "Guess [1 out of 3]: 6\n",
      "Hint: number is less than your answer\n",
      "Guess [2 out of 3]: 2\n",
      "Hint: number is greater than your answer\n",
      "Guess [3 out of 3]: 3\n",
      "You won!\n",
      "Play again? [Y/N]: n\n"
     ]
    }
   ],
   "source": [
    "import random\n",
    "\n",
    "play = True\n",
    "\n",
    "while play:\n",
    "    ans = random.randint(1, 30)\n",
    "    won = False\n",
    "    \n",
    "    for i in range(1, 4):\n",
    "        guess = int(input(\"Guess [%d out of 3]: \" %i))\n",
    "        \n",
    "        if ans == guess:\n",
    "            print(\"You won!\")\n",
    "            won = True\n",
    "            break\n",
    "        if ans > guess:\n",
    "            print(\"Hint: number is greater than your answer\")\n",
    "        if ans < guess:\n",
    "            print(\"Hint: number is less than your answer\")\n",
    "    if not(won):\n",
    "        print(\"\\nYou LOST! Answer was: %d\\n\" %ans)\n",
    "    op = input(\"Play again? [Y/N]: \")\n",
    "    if op.lower() == \"n\":\n",
    "        play = False\n",
    "    "
   ]
  },
  {
   "cell_type": "code",
   "execution_count": null,
   "metadata": {},
   "outputs": [],
   "source": []
  }
 ],
 "metadata": {
  "kernelspec": {
   "display_name": "Python 3",
   "language": "python",
   "name": "python3"
  },
  "language_info": {
   "codemirror_mode": {
    "name": "ipython",
    "version": 3
   },
   "file_extension": ".py",
   "mimetype": "text/x-python",
   "name": "python",
   "nbconvert_exporter": "python",
   "pygments_lexer": "ipython3",
   "version": "3.7.4"
  }
 },
 "nbformat": 4,
 "nbformat_minor": 2
}
