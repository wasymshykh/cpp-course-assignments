{
 "cells": [
  {
   "cell_type": "markdown",
   "metadata": {},
   "source": [
    "**Question #1** Write a Python function to calculate the factorial of a number (a non-negative\n",
    "integer). The function accepts the number as an argument."
   ]
  },
  {
   "cell_type": "code",
   "execution_count": 1,
   "metadata": {},
   "outputs": [
    {
     "name": "stdout",
     "output_type": "stream",
     "text": [
      "3628800\n"
     ]
    }
   ],
   "source": [
    "def factorial(num):\n",
    "    l = 1\n",
    "    for i in range(1, num+1):\n",
    "        l *= i\n",
    "        \n",
    "    return l\n",
    "    \n",
    "print(factorial(10))"
   ]
  },
  {
   "cell_type": "markdown",
   "metadata": {},
   "source": [
    "**Question #2** Write a Python function that accepts a string and calculate the number of upper\n",
    "case letters and lower case letters."
   ]
  },
  {
   "cell_type": "code",
   "execution_count": 2,
   "metadata": {},
   "outputs": [
    {
     "name": "stdout",
     "output_type": "stream",
     "text": [
      "{'upper': 1, 'lower': 15}\n"
     ]
    }
   ],
   "source": [
    "def calc_string(st):\n",
    "    upper = 0\n",
    "    lower = 0\n",
    "    accepted_char = [\"a\", \"b\", \"c\", \"d\", \n",
    "                     \"e\", \"f\", \"g\", \"h\", \"i\", \n",
    "                     \"j\", \"k\", \"l\", \"m\", \"n\", \n",
    "                     \"o\", \"p\", \"q\", \"r\", \"s\", \n",
    "                     \"t\", \"u\", \"v\", \"w\",\n",
    "                     \"x\", \"y\", \"z\"]\n",
    "    for ch in st:\n",
    "        if ch.lower() in accepted_char:\n",
    "            if ch.upper() == ch:\n",
    "                upper += 1\n",
    "            elif ch.lower() == ch:\n",
    "                lower += 1\n",
    "    return {\"upper\": upper, \"lower\": lower}\n",
    "        \n",
    "total = calc_string(\"Hi! my name is waseem 664456\")\n",
    "print(total)"
   ]
  },
  {
   "cell_type": "markdown",
   "metadata": {},
   "source": [
    "**Question #3** Write a Python function to print the even numbers from a given list."
   ]
  },
  {
   "cell_type": "code",
   "execution_count": 3,
   "metadata": {},
   "outputs": [
    {
     "name": "stdout",
     "output_type": "stream",
     "text": [
      "Even - 2\n",
      "Even - 4\n",
      "Even - 6\n",
      "Even - 8\n"
     ]
    }
   ],
   "source": [
    "def even_printer(ls):\n",
    "    for l in ls:\n",
    "        if l % 2 == 0:\n",
    "            print(\"Even - {}\".format(l))\n",
    "\n",
    "even_printer([1,2,3,4,5,6,7,8])"
   ]
  },
  {
   "cell_type": "markdown",
   "metadata": {},
   "source": [
    "**Question #4** Write a Python function that checks whether a passed string is palindrome or not."
   ]
  },
  {
   "cell_type": "code",
   "execution_count": 4,
   "metadata": {},
   "outputs": [
    {
     "name": "stdout",
     "output_type": "stream",
     "text": [
      "True\n"
     ]
    }
   ],
   "source": [
    "def is_palindrome(st):\n",
    "    \n",
    "    j = len(st) - 1\n",
    "    for i in range(0, len(st)):\n",
    "        if st[i] != st[j]:\n",
    "            return False\n",
    "        j -= 1\n",
    "    return True\n",
    "    \n",
    "    \n",
    "print(is_palindrome(\"racecar\"))"
   ]
  },
  {
   "cell_type": "markdown",
   "metadata": {},
   "source": [
    "**Question #5** Write a Python function that takes a number as a parameter and check the\n",
    "number is prime or not."
   ]
  },
  {
   "cell_type": "code",
   "execution_count": 5,
   "metadata": {},
   "outputs": [
    {
     "name": "stdout",
     "output_type": "stream",
     "text": [
      "True\n"
     ]
    }
   ],
   "source": [
    "def is_prime(num):\n",
    "    for d in range(2, num):\n",
    "        if num % d == 0:\n",
    "            return False\n",
    "    return True\n",
    "\n",
    "print(is_prime(89))"
   ]
  },
  {
   "cell_type": "markdown",
   "metadata": {},
   "source": [
    "**Question #6** Write a function which accepts the multiple arguments of user shopping list and\n",
    "print all the items which user bought from market."
   ]
  },
  {
   "cell_type": "code",
   "execution_count": 6,
   "metadata": {},
   "outputs": [
    {
     "name": "stdout",
     "output_type": "stream",
     "text": [
      "Items brought by user: \n",
      "- Conditioner\n",
      "- Shampoo\n",
      "- Coco\n",
      "- Lays\n"
     ]
    }
   ],
   "source": [
    "\n",
    "def brought(*items):\n",
    "    print(\"Items brought by user: \")\n",
    "    for item in items:\n",
    "        print(\"- {}\".format(item[\"name\"]))\n",
    "\n",
    "\n",
    "def item(name, quantity, price):\n",
    "    return {\"name\": name, \"quantity\": quantity, \"price\": price}\n",
    "    \n",
    "\n",
    "i_1 = item(\"Conditioner\", 1, 160)\n",
    "i_2 = item(\"Shampoo\", 2, 90)\n",
    "i_3 = item(\"Coco\", 5, 10)\n",
    "i_4 = item(\"Lays\", 10, 50)\n",
    "    \n",
    "brought(i_1, i_2, i_3, i_4)"
   ]
  },
  {
   "cell_type": "code",
   "execution_count": null,
   "metadata": {},
   "outputs": [],
   "source": []
  }
 ],
 "metadata": {
  "kernelspec": {
   "display_name": "Python 3",
   "language": "python",
   "name": "python3"
  },
  "language_info": {
   "codemirror_mode": {
    "name": "ipython",
    "version": 3
   },
   "file_extension": ".py",
   "mimetype": "text/x-python",
   "name": "python",
   "nbconvert_exporter": "python",
   "pygments_lexer": "ipython3",
   "version": "3.7.4"
  }
 },
 "nbformat": 4,
 "nbformat_minor": 2
}
