{
 "cells": [
  {
   "cell_type": "markdown",
   "metadata": {},
   "source": [
    "**Question One** Define Object Oriented Programming Language?"
   ]
  },
  {
   "cell_type": "markdown",
   "metadata": {},
   "source": [
    "A object oriented programming is a programming paradigm. It is quiet different than functional programming. In OOP, we are constructing classes and objects. Each class can contain properties and method. Classes can also inherit properties and methods, we can also control access to certain properties and methods. There are four main principles that OOP follows: \n",
    "1. Inheritence\n",
    "2. Encapsulation\n",
    "3. Abstraction\n",
    "4. Polymorphism"
   ]
  },
  {
   "cell_type": "markdown",
   "metadata": {},
   "source": [
    "-"
   ]
  },
  {
   "cell_type": "markdown",
   "metadata": {},
   "source": [
    "**Question Two** List down the Benefits of OOP?"
   ]
  },
  {
   "cell_type": "markdown",
   "metadata": {},
   "source": [
    "OOP provides consistency in structure of application by keeping relevent properties and methods in each class and every class has special purpose. Some benefits of using OOP are:\n",
    "\n",
    "1. Inheritence: Using behaviour/methods of other classes, may help in reuseability.\n",
    "\n",
    "2. Encapsulation: Applying restrictions on access of properties and methods. Public, private, default and protected are some access modifiers available in most languages.\n",
    "\n",
    "3. Abstraction: Hidding irrelevent information, OOP makes it easy to model any kind of problem.\n",
    "\n",
    "4. Polymorephism: There's the concept of overriding and overloading provides benefit of using same named methods but different functionality."
   ]
  },
  {
   "cell_type": "markdown",
   "metadata": {},
   "source": [
    "-"
   ]
  },
  {
   "cell_type": "markdown",
   "metadata": {},
   "source": [
    "**Question Three** Differentiate between function and method?"
   ]
  },
  {
   "cell_type": "markdown",
   "metadata": {},
   "source": [
    "1. Function is a part of functional programming. In OOP, a function that is part of class is called method.\n",
    "\n",
    "2. Function cannot have access modifier while method can have access modifier.\n",
    "\n",
    "3. Concept of polymorephism cannot be applied at function but method.\n"
   ]
  },
  {
   "cell_type": "markdown",
   "metadata": {},
   "source": [
    "-"
   ]
  },
  {
   "cell_type": "markdown",
   "metadata": {},
   "source": [
    "**Question Four** Define the following terms: Class, Object, Attribute and Behavior"
   ]
  },
  {
   "cell_type": "markdown",
   "metadata": {},
   "source": [
    "**Class** is a blueprint/structure of object. It can contain different properties and methods.\n",
    "\n",
    "**Object** is a instance of class which contain it's own data\n",
    "\n",
    "**Attribute** also known as property, is just like a variable on which data can be initialized\n",
    "\n",
    "**Behavior** also known as method, contains functionality it can take data and return after processing information."
   ]
  },
  {
   "cell_type": "markdown",
   "metadata": {},
   "source": [
    "-"
   ]
  },
  {
   "cell_type": "markdown",
   "metadata": {},
   "source": [
    "**Question Five** Write a code in python in which create a class named it Car which\n",
    "have 5 attributes such like (model, color and name etc.) and 3\n",
    "methods. And create 5 object instance from that class."
   ]
  },
  {
   "cell_type": "code",
   "execution_count": 5,
   "metadata": {},
   "outputs": [],
   "source": [
    "class Car:\n",
    "    def __init__(self, name, model, color, regno, owner):\n",
    "        self.name = name\n",
    "        self.model = model\n",
    "        self.color = color\n",
    "        self.regno = regno\n",
    "        self.owner = owner\n",
    "    \n",
    "    def get_name(self):\n",
    "        return self.name\n",
    "    \n",
    "    def get_model(self):\n",
    "        return self.model\n",
    "    \n",
    "    def get_color(self):\n",
    "        return self.color\n",
    "    \n",
    "\n",
    "car1 = Car(\"Meera\", \"Suzuki\", \"red\", \"SY300\", \"Ali\")\n",
    "car2 = Car(\"Liana\", \"Suzuki\", \"black\", \"BS300\", \"Kizar\")\n",
    "car3 = Car(\"Wagon R\", \"Suzuki\", \"silver\", \"UF450\", \"Hamza\")\n",
    "car4 = Car(\"Corolla\", \"Toyota\", \"pink\", \"SG560\", \"Huma\")\n",
    "car5 = Car(\"Lancer\", \"Mitsubishi\", \"blue\", \"XS301\", \"Rabiya\")"
   ]
  }
 ],
 "metadata": {
  "kernelspec": {
   "display_name": "Python 3",
   "language": "python",
   "name": "python3"
  },
  "language_info": {
   "codemirror_mode": {
    "name": "ipython",
    "version": 3
   },
   "file_extension": ".py",
   "mimetype": "text/x-python",
   "name": "python",
   "nbconvert_exporter": "python",
   "pygments_lexer": "ipython3",
   "version": "3.7.4"
  }
 },
 "nbformat": 4,
 "nbformat_minor": 2
}
