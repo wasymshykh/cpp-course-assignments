{
 "cells": [
  {
   "cell_type": "markdown",
   "metadata": {},
   "source": [
    "**Question One**\n",
    "Write a program which takes 5 inputs from user for different subject’s marks, total it and generate mark sheet using grades ?\n"
   ]
  },
  {
   "cell_type": "code",
   "execution_count": 1,
   "metadata": {},
   "outputs": [
    {
     "name": "stdout",
     "output_type": "stream",
     "text": [
      "Enter marks for Software Engineering: 60\n",
      "Enter marks for Technical English: 70\n",
      "Enter marks for Machine Learning: 20\n",
      "Enter marks for Computer Science: 60\n",
      "Enter marks for Data Communication: 90\n",
      "==========================================\n",
      "\t\tMARK SHEET\n",
      "==========================================\n",
      "Subject\t\tObtained\tPercentage [grade]\n",
      "------------------------------------------\n",
      "Software Engineering\t60/100\t60.00% [C]\n",
      "Technical English\t70/100\t70.00% [B]\n",
      "Machine Learning\t20/100\t20.00% [F]\n",
      "Computer Science\t60/100\t60.00% [C]\n",
      "Data Communication\t90/100\t90.00% [A]\n",
      "------------------------------------------\n",
      "Total: 500\tObtained: 300\tPercentage: 60.00%\n"
     ]
    }
   ],
   "source": [
    "subjects = ['Software Engineering', 'Technical English', 'Machine Learning', 'Computer Science', 'Data Communication']\n",
    "data = []\n",
    "for subject in subjects:\n",
    "    data.append(float(input(\"Enter marks for %s: \" %subject)))\n",
    "    \n",
    "print(\"==========================================\\n\\t\\tMARK SHEET\\n==========================================\")\n",
    "\n",
    "print(\"Subject\\t\\tObtained\\tPercentage [grade]\", end=\"\\n------------------------------------------\\n\")\n",
    "\n",
    "total = 0\n",
    "t_grade = \"\"\n",
    "for i in range(0, len(subjects)):\n",
    "    percentage = (data[i]/100) * 100\n",
    "    total += data[i]\n",
    "    print(\"%s\\t%d/100\\t%.2f%%\" %(subjects[i], data[i], percentage), end=\"\")    \n",
    "    \n",
    "    if percentage > 79 and percentage <= 100:\n",
    "        print(\" [A]\")\n",
    "    elif percentage > 69 and percentage < 80:\n",
    "        print(\" [B]\")\n",
    "    elif percentage > 59 and percentage < 70:\n",
    "        print(\" [C]\")\n",
    "    elif percentage > 49 and percentage < 60:\n",
    "        print(\" [D]\")\n",
    "    elif percentage >= 0 and percentage < 50:\n",
    "        print(\" [F]\")\n",
    "    else:\n",
    "        print(\" [invalid]\")\n",
    "    \n",
    "print(\"------------------------------------------\")\n",
    "print(\"Total: 500\\tObtained: %d\\tPercentage: %.2f%%\" %(total, (total/500)*100))\n"
   ]
  },
  {
   "cell_type": "markdown",
   "metadata": {},
   "source": [
    "**Question Two** Write a program which take input from user and identify that the given number is even or odd?"
   ]
  },
  {
   "cell_type": "code",
   "execution_count": 2,
   "metadata": {},
   "outputs": [
    {
     "name": "stdout",
     "output_type": "stream",
     "text": [
      "Enter Number: 6\n",
      "Number is even\n"
     ]
    }
   ],
   "source": [
    "num = int(input(\"Enter Number: \"))\n",
    "\n",
    "if num % 2 == 0:\n",
    "    print(\"Number is even\")\n",
    "else:\n",
    "    print(\"Number is odd\")"
   ]
  },
  {
   "cell_type": "markdown",
   "metadata": {},
   "source": [
    "**Question Three** Write a program which print the length of the list?"
   ]
  },
  {
   "cell_type": "code",
   "execution_count": 3,
   "metadata": {},
   "outputs": [
    {
     "name": "stdout",
     "output_type": "stream",
     "text": [
      "6\n"
     ]
    }
   ],
   "source": [
    "li = [1,2,3,5,9,6]\n",
    "\n",
    "print(len(li))"
   ]
  },
  {
   "cell_type": "markdown",
   "metadata": {},
   "source": [
    "**Question Four** Write a Python program to sum all the numeric items in a list?"
   ]
  },
  {
   "cell_type": "code",
   "execution_count": 4,
   "metadata": {},
   "outputs": [
    {
     "name": "stdout",
     "output_type": "stream",
     "text": [
      "35\n"
     ]
    }
   ],
   "source": [
    "li = [5,6,8,6,10]\n",
    "\n",
    "print(sum(li))"
   ]
  },
  {
   "cell_type": "markdown",
   "metadata": {},
   "source": [
    "**Question Five** Write a Python program to get the largest number from a numeric list."
   ]
  },
  {
   "cell_type": "code",
   "execution_count": 5,
   "metadata": {},
   "outputs": [
    {
     "name": "stdout",
     "output_type": "stream",
     "text": [
      "10\n"
     ]
    }
   ],
   "source": [
    "li = [5,6,8,6,10]\n",
    "\n",
    "print(max(li))"
   ]
  },
  {
   "cell_type": "markdown",
   "metadata": {},
   "source": [
    "**Question Six** write a program that prints out all the elements of the list that are\n",
    "less than 5."
   ]
  },
  {
   "cell_type": "code",
   "execution_count": 6,
   "metadata": {},
   "outputs": [
    {
     "name": "stdout",
     "output_type": "stream",
     "text": [
      "1\n",
      "1\n",
      "2\n",
      "3\n"
     ]
    }
   ],
   "source": [
    "a = [1, 1, 2, 3, 5, 8, 13, 21, 34, 55, 89]\n",
    "\n",
    "for el in a:\n",
    "    if el < 5:\n",
    "        print(el)"
   ]
  },
  {
   "cell_type": "code",
   "execution_count": null,
   "metadata": {},
   "outputs": [],
   "source": []
  }
 ],
 "metadata": {
  "kernelspec": {
   "display_name": "Python 3",
   "language": "python",
   "name": "python3"
  },
  "language_info": {
   "codemirror_mode": {
    "name": "ipython",
    "version": 3
   },
   "file_extension": ".py",
   "mimetype": "text/x-python",
   "name": "python",
   "nbconvert_exporter": "python",
   "pygments_lexer": "ipython3",
   "version": "3.7.4"
  }
 },
 "nbformat": 4,
 "nbformat_minor": 2
}
