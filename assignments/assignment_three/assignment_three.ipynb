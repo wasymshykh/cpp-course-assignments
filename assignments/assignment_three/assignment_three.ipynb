{
 "cells": [
  {
   "cell_type": "markdown",
   "metadata": {},
   "source": [
    "**Question #1** Make a calculator using Python with addition , subtraction , multiplication ,\n",
    "division and power."
   ]
  },
  {
   "cell_type": "code",
   "execution_count": 1,
   "metadata": {},
   "outputs": [
    {
     "name": "stdout",
     "output_type": "stream",
     "text": [
      "v1: 5\n",
      "operation [- + * / pow]: pow\n",
      "v2: 2\n",
      "Result [5.00 pow 2] = 25.00\n",
      "Calculate more? [Y/N]N\n"
     ]
    }
   ],
   "source": [
    "rerun = True\n",
    "while rerun:\n",
    "    v_one = float(input(\"v1: \"))\n",
    "    op = input(\"operation [- + * / pow]: \")\n",
    "    v_two = float(input(\"v2: \"))\n",
    "    \n",
    "    if op in ['-','+','*','/','pow']:\n",
    "\n",
    "        if op == '-':\n",
    "            print(\"Result [%.2f %s %.2f] = %.2f\" %(v_one, op, v_two, (v_one - v_two)))\n",
    "        if op == '+':\n",
    "            print(\"Result [%.2f %s %.2f] = %.2f\" %(v_one, op, v_two, (v_one + v_two)))\n",
    "        if op == '*':\n",
    "            print(\"Result [%.2f %s %.2f] = %.2f\" %(v_one, op, v_two, (v_one * v_two)))\n",
    "        if op == '/':\n",
    "            print(\"Result [%.2f %s %.2f] = %.2f\" %(v_one, op, v_two, (v_one / v_two)))\n",
    "        if op == 'pow':\n",
    "            print(\"Result [%.2f %s %.0f] = %.2f\" %(v_one, op, v_two, (v_one ** v_two)))\n",
    "\n",
    "    else:\n",
    "        print(\"invalid operation\")\n",
    "        \n",
    "    if (input(\"Calculate more? [Y/N]\")).lower() == 'n':\n",
    "        rerun = False"
   ]
  },
  {
   "cell_type": "markdown",
   "metadata": {},
   "source": [
    "**Question #2** Write a program to check if there is any numeric value in list using for loop"
   ]
  },
  {
   "cell_type": "code",
   "execution_count": 2,
   "metadata": {},
   "outputs": [
    {
     "name": "stdout",
     "output_type": "stream",
     "text": [
      "Numeric value doesn't exist!\n"
     ]
    }
   ],
   "source": [
    "values = [\"st\", \"ti\", \"ri\", \"wh\"]\n",
    "flag = -1\n",
    "\n",
    "for value in values:\n",
    "    if type(value) is int or type(value) is float:\n",
    "        flag = 1\n",
    "        print(\"Numeric value exist in list\")\n",
    "        break\n",
    "        \n",
    "if flag == -1:\n",
    "    print(\"Numeric value doesn't exist!\")"
   ]
  },
  {
   "cell_type": "markdown",
   "metadata": {},
   "source": [
    "**Question #3** Write a Python script to add a key to a dictionary"
   ]
  },
  {
   "cell_type": "code",
   "execution_count": 3,
   "metadata": {},
   "outputs": [
    {
     "name": "stdout",
     "output_type": "stream",
     "text": [
      "{'A': 'Ali', 'K': 'Khan', 'M': 'Waseem'}\n"
     ]
    }
   ],
   "source": [
    "key = \"M\"\n",
    "value = \"Waseem\"\n",
    "\n",
    "dic = {\"A\": \"Ali\", \"K\": \"Khan\"}\n",
    "\n",
    "dic[key] = value\n",
    "\n",
    "print(dic)"
   ]
  },
  {
   "cell_type": "markdown",
   "metadata": {},
   "source": [
    "**Question #4** Write a Python program to sum all the numeric items in a dictionary"
   ]
  },
  {
   "cell_type": "code",
   "execution_count": null,
   "metadata": {},
   "outputs": [],
   "source": [
    "dic = {\"1\": \"one\", \"2\": 2, \"3\": \"three\", \"4\": 4, \"5\": \"five\", \"6\": 6.5}\n",
    "total = 0\n",
    "\n",
    "for k in dic:\n",
    "    v = dic[k]\n",
    "    if type(v) is int or type(v) is float:\n",
    "        total += v\n",
    "        \n",
    "print(total)"
   ]
  },
  {
   "cell_type": "markdown",
   "metadata": {},
   "source": [
    "**Question #5** Write a program to identify duplicate values from list"
   ]
  },
  {
   "cell_type": "code",
   "execution_count": null,
   "metadata": {},
   "outputs": [],
   "source": [
    "values = [\"li\", \"a\", \"href\", \"ref\", \"a\", \"li\"]\n",
    "duplicates = {}\n",
    "\n",
    "c_values = values.copy()\n",
    "for val in values:\n",
    "    c_values.remove(val)\n",
    "    \n",
    "    if val in c_values:\n",
    "        duplicates[val] = val\n",
    "        \n",
    "    \n",
    "if len(duplicates) > 0:\n",
    "    print(len(duplicates))\n",
    "    print(\"Duplicate values are\", end=\": \")\n",
    "    for v in duplicates:\n",
    "        print(\"%s\"%(v), end=\",\")\n",
    "        \n",
    "else:\n",
    "    print(\"No duplicate found!\")"
   ]
  },
  {
   "cell_type": "markdown",
   "metadata": {},
   "source": [
    "**Question #6** Write a Python script to check if a given key already exists in a dictionary"
   ]
  },
  {
   "cell_type": "code",
   "execution_count": null,
   "metadata": {},
   "outputs": [],
   "source": [
    "values = {\"li\": \"list\", \"a\": \"anchor\", \"href\": \"reference\", \"ref\": \"refer\"}\n",
    "\n",
    "k = input(\"Enter Key: \")\n",
    "\n",
    "if k in values:\n",
    "    print(\"Yes, key exists!\")\n",
    "else:\n",
    "    print(\"No, key doesn't exists!\")\n"
   ]
  },
  {
   "cell_type": "code",
   "execution_count": null,
   "metadata": {},
   "outputs": [],
   "source": []
  }
 ],
 "metadata": {
  "kernelspec": {
   "display_name": "Python 3",
   "language": "python",
   "name": "python3"
  },
  "language_info": {
   "codemirror_mode": {
    "name": "ipython",
    "version": 3
   },
   "file_extension": ".py",
   "mimetype": "text/x-python",
   "name": "python",
   "nbconvert_exporter": "python",
   "pygments_lexer": "ipython3",
   "version": "3.7.4"
  }
 },
 "nbformat": 4,
 "nbformat_minor": 2
}
